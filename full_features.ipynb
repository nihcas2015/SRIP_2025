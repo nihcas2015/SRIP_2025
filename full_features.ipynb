{
  "cells": [
    {
      "cell_type": "code",
      "execution_count": 1,
      "id": "185c41ea",
      "metadata": {
        "id": "185c41ea"
      },
      "outputs": [],
      "source": [
        "import pandas as pd\n",
        "import numpy as np\n",
        "from sklearn.model_selection import train_test_split\n",
        "from sklearn.preprocessing import StandardScaler\n",
        "from sklearn.preprocessing import LabelEncoder"
      ]
    },
    {
      "cell_type": "code",
      "source": [
        "from google.colab import drive\n",
        "drive.mount('/content/drive')"
      ],
      "metadata": {
        "id": "_W2L8EIrdBkn",
        "outputId": "299c5cea-6fd3-4412-f3a1-0ec3e9ebfd88",
        "colab": {
          "base_uri": "https://localhost:8080/"
        }
      },
      "id": "_W2L8EIrdBkn",
      "execution_count": 2,
      "outputs": [
        {
          "output_type": "stream",
          "name": "stdout",
          "text": [
            "Mounted at /content/drive\n"
          ]
        }
      ]
    },
    {
      "cell_type": "code",
      "execution_count": null,
      "id": "36c2fa66",
      "metadata": {
        "id": "36c2fa66",
        "outputId": "250e67a6-2062-474a-d55a-adc528cb1964"
      },
      "outputs": [
        {
          "name": "stderr",
          "output_type": "stream",
          "text": [
            "C:\\Users\\nihca\\AppData\\Local\\Temp\\ipykernel_19672\\3479685340.py:1: DtypeWarning: Columns (7,9) have mixed types. Specify dtype option on import or set low_memory=False.\n",
            "  data=pd.read_csv(r\"C:\\Users\\nihca\\OneDrive\\Documents\\vscode\\SRIP_2025\\UNSW_2018_IoT_Botnet_Full5pc_1.csv\")\n",
            "C:\\Users\\nihca\\AppData\\Local\\Temp\\ipykernel_19672\\3479685340.py:2: DtypeWarning: Columns (7,9) have mixed types. Specify dtype option on import or set low_memory=False.\n",
            "  data=pd.concat([data,pd.read_csv(r\"C:\\Users\\nihca\\OneDrive\\Documents\\vscode\\SRIP_2025\\UNSW_2018_IoT_Botnet_Full5pc_2.csv\")])\n",
            "C:\\Users\\nihca\\AppData\\Local\\Temp\\ipykernel_19672\\3479685340.py:3: DtypeWarning: Columns (7,9) have mixed types. Specify dtype option on import or set low_memory=False.\n",
            "  data=pd.concat([data,pd.read_csv(r\"C:\\Users\\nihca\\OneDrive\\Documents\\vscode\\SRIP_2025\\UNSW_2018_IoT_Botnet_Full5pc_3.csv\")])\n",
            "C:\\Users\\nihca\\AppData\\Local\\Temp\\ipykernel_19672\\3479685340.py:4: DtypeWarning: Columns (7,9) have mixed types. Specify dtype option on import or set low_memory=False.\n",
            "  data=pd.concat([data,pd.read_csv(r\"C:\\Users\\nihca\\OneDrive\\Documents\\vscode\\SRIP_2025\\UNSW_2018_IoT_Botnet_Full5pc_4.csv\")])\n"
          ]
        }
      ],
      "source": [
        "data=pd.read_csv(r\"C:\\Users\\nihca\\OneDrive\\Documents\\vscode\\SRIP_2025\\UNSW_2018_IoT_Botnet_Full5pc_1.csv\")\n",
        "data=pd.concat([data,pd.read_csv(r\"C:\\Users\\nihca\\OneDrive\\Documents\\vscode\\SRIP_2025\\UNSW_2018_IoT_Botnet_Full5pc_2.csv\")])\n",
        "data=pd.concat([data,pd.read_csv(r\"C:\\Users\\nihca\\OneDrive\\Documents\\vscode\\SRIP_2025\\UNSW_2018_IoT_Botnet_Full5pc_3.csv\")])\n",
        "data=pd.concat([data,pd.read_csv(r\"C:\\Users\\nihca\\OneDrive\\Documents\\vscode\\SRIP_2025\\UNSW_2018_IoT_Botnet_Full5pc_4.csv\")])"
      ]
    },
    {
      "cell_type": "code",
      "execution_count": null,
      "id": "7e787386",
      "metadata": {
        "id": "7e787386",
        "outputId": "b01a09c3-ef16-4607-a925-7f705c1d4507"
      },
      "outputs": [
        {
          "data": {
            "text/html": [
              "<div>\n",
              "<style scoped>\n",
              "    .dataframe tbody tr th:only-of-type {\n",
              "        vertical-align: middle;\n",
              "    }\n",
              "\n",
              "    .dataframe tbody tr th {\n",
              "        vertical-align: top;\n",
              "    }\n",
              "\n",
              "    .dataframe thead th {\n",
              "        text-align: right;\n",
              "    }\n",
              "</style>\n",
              "<table border=\"1\" class=\"dataframe\">\n",
              "  <thead>\n",
              "    <tr style=\"text-align: right;\">\n",
              "      <th></th>\n",
              "      <th>pkSeqID</th>\n",
              "      <th>stime</th>\n",
              "      <th>flgs</th>\n",
              "      <th>flgs_number</th>\n",
              "      <th>proto</th>\n",
              "      <th>proto_number</th>\n",
              "      <th>saddr</th>\n",
              "      <th>sport</th>\n",
              "      <th>daddr</th>\n",
              "      <th>dport</th>\n",
              "      <th>...</th>\n",
              "      <th>AR_P_Proto_P_DstIP</th>\n",
              "      <th>N_IN_Conn_P_DstIP</th>\n",
              "      <th>N_IN_Conn_P_SrcIP</th>\n",
              "      <th>AR_P_Proto_P_Sport</th>\n",
              "      <th>AR_P_Proto_P_Dport</th>\n",
              "      <th>Pkts_P_State_P_Protocol_P_DestIP</th>\n",
              "      <th>Pkts_P_State_P_Protocol_P_SrcIP</th>\n",
              "      <th>attack</th>\n",
              "      <th>category</th>\n",
              "      <th>subcategory</th>\n",
              "    </tr>\n",
              "  </thead>\n",
              "  <tbody>\n",
              "    <tr>\n",
              "      <th>0</th>\n",
              "      <td>1</td>\n",
              "      <td>1.528089e+09</td>\n",
              "      <td>e</td>\n",
              "      <td>1</td>\n",
              "      <td>tcp</td>\n",
              "      <td>1</td>\n",
              "      <td>192.168.100.147</td>\n",
              "      <td>49960</td>\n",
              "      <td>192.168.100.7</td>\n",
              "      <td>80</td>\n",
              "      <td>...</td>\n",
              "      <td>1.12704</td>\n",
              "      <td>96</td>\n",
              "      <td>75</td>\n",
              "      <td>1.133720</td>\n",
              "      <td>1.129970</td>\n",
              "      <td>770</td>\n",
              "      <td>602</td>\n",
              "      <td>1</td>\n",
              "      <td>DoS</td>\n",
              "      <td>HTTP</td>\n",
              "    </tr>\n",
              "    <tr>\n",
              "      <th>1</th>\n",
              "      <td>2</td>\n",
              "      <td>1.528089e+09</td>\n",
              "      <td>e</td>\n",
              "      <td>1</td>\n",
              "      <td>arp</td>\n",
              "      <td>2</td>\n",
              "      <td>192.168.100.7</td>\n",
              "      <td>-1</td>\n",
              "      <td>192.168.100.147</td>\n",
              "      <td>-1</td>\n",
              "      <td>...</td>\n",
              "      <td>15267.20000</td>\n",
              "      <td>1</td>\n",
              "      <td>2</td>\n",
              "      <td>0.005142</td>\n",
              "      <td>0.005142</td>\n",
              "      <td>2</td>\n",
              "      <td>6</td>\n",
              "      <td>1</td>\n",
              "      <td>DoS</td>\n",
              "      <td>HTTP</td>\n",
              "    </tr>\n",
              "    <tr>\n",
              "      <th>2</th>\n",
              "      <td>3</td>\n",
              "      <td>1.528089e+09</td>\n",
              "      <td>e</td>\n",
              "      <td>1</td>\n",
              "      <td>tcp</td>\n",
              "      <td>1</td>\n",
              "      <td>192.168.100.147</td>\n",
              "      <td>49962</td>\n",
              "      <td>192.168.100.7</td>\n",
              "      <td>80</td>\n",
              "      <td>...</td>\n",
              "      <td>1.12704</td>\n",
              "      <td>96</td>\n",
              "      <td>75</td>\n",
              "      <td>1.135100</td>\n",
              "      <td>1.129970</td>\n",
              "      <td>770</td>\n",
              "      <td>602</td>\n",
              "      <td>1</td>\n",
              "      <td>DoS</td>\n",
              "      <td>HTTP</td>\n",
              "    </tr>\n",
              "    <tr>\n",
              "      <th>3</th>\n",
              "      <td>4</td>\n",
              "      <td>1.528089e+09</td>\n",
              "      <td>e</td>\n",
              "      <td>1</td>\n",
              "      <td>tcp</td>\n",
              "      <td>1</td>\n",
              "      <td>192.168.100.147</td>\n",
              "      <td>49964</td>\n",
              "      <td>192.168.100.7</td>\n",
              "      <td>80</td>\n",
              "      <td>...</td>\n",
              "      <td>1.12704</td>\n",
              "      <td>96</td>\n",
              "      <td>75</td>\n",
              "      <td>1.135140</td>\n",
              "      <td>1.129970</td>\n",
              "      <td>770</td>\n",
              "      <td>602</td>\n",
              "      <td>1</td>\n",
              "      <td>DoS</td>\n",
              "      <td>HTTP</td>\n",
              "    </tr>\n",
              "    <tr>\n",
              "      <th>4</th>\n",
              "      <td>5</td>\n",
              "      <td>1.528089e+09</td>\n",
              "      <td>e</td>\n",
              "      <td>1</td>\n",
              "      <td>tcp</td>\n",
              "      <td>1</td>\n",
              "      <td>192.168.100.147</td>\n",
              "      <td>49966</td>\n",
              "      <td>192.168.100.7</td>\n",
              "      <td>80</td>\n",
              "      <td>...</td>\n",
              "      <td>1.12704</td>\n",
              "      <td>96</td>\n",
              "      <td>75</td>\n",
              "      <td>1.135260</td>\n",
              "      <td>1.129970</td>\n",
              "      <td>770</td>\n",
              "      <td>602</td>\n",
              "      <td>1</td>\n",
              "      <td>DoS</td>\n",
              "      <td>HTTP</td>\n",
              "    </tr>\n",
              "  </tbody>\n",
              "</table>\n",
              "<p>5 rows × 46 columns</p>\n",
              "</div>"
            ],
            "text/plain": [
              "   pkSeqID         stime flgs  flgs_number proto  proto_number  \\\n",
              "0        1  1.528089e+09    e            1   tcp             1   \n",
              "1        2  1.528089e+09    e            1   arp             2   \n",
              "2        3  1.528089e+09    e            1   tcp             1   \n",
              "3        4  1.528089e+09    e            1   tcp             1   \n",
              "4        5  1.528089e+09    e            1   tcp             1   \n",
              "\n",
              "             saddr  sport            daddr dport  ...  AR_P_Proto_P_DstIP  \\\n",
              "0  192.168.100.147  49960    192.168.100.7    80  ...             1.12704   \n",
              "1    192.168.100.7     -1  192.168.100.147    -1  ...         15267.20000   \n",
              "2  192.168.100.147  49962    192.168.100.7    80  ...             1.12704   \n",
              "3  192.168.100.147  49964    192.168.100.7    80  ...             1.12704   \n",
              "4  192.168.100.147  49966    192.168.100.7    80  ...             1.12704   \n",
              "\n",
              "   N_IN_Conn_P_DstIP N_IN_Conn_P_SrcIP  AR_P_Proto_P_Sport  \\\n",
              "0                 96                75            1.133720   \n",
              "1                  1                 2            0.005142   \n",
              "2                 96                75            1.135100   \n",
              "3                 96                75            1.135140   \n",
              "4                 96                75            1.135260   \n",
              "\n",
              "   AR_P_Proto_P_Dport  Pkts_P_State_P_Protocol_P_DestIP  \\\n",
              "0            1.129970                               770   \n",
              "1            0.005142                                 2   \n",
              "2            1.129970                               770   \n",
              "3            1.129970                               770   \n",
              "4            1.129970                               770   \n",
              "\n",
              "   Pkts_P_State_P_Protocol_P_SrcIP  attack  category  subcategory  \n",
              "0                              602       1       DoS         HTTP  \n",
              "1                                6       1       DoS         HTTP  \n",
              "2                              602       1       DoS         HTTP  \n",
              "3                              602       1       DoS         HTTP  \n",
              "4                              602       1       DoS         HTTP  \n",
              "\n",
              "[5 rows x 46 columns]"
            ]
          },
          "execution_count": 31,
          "metadata": {},
          "output_type": "execute_result"
        }
      ],
      "source": [
        "data.head()"
      ]
    },
    {
      "cell_type": "code",
      "execution_count": null,
      "id": "1d4943c1",
      "metadata": {
        "id": "1d4943c1",
        "outputId": "2791e0e2-ef96-442c-f15f-02fd7c6fd75b"
      },
      "outputs": [
        {
          "data": {
            "text/plain": [
              "category\n",
              "DDoS              1926624\n",
              "DoS               1650260\n",
              "Reconnaissance      91082\n",
              "Normal                477\n",
              "Theft                  79\n",
              "Name: count, dtype: int64"
            ]
          },
          "execution_count": 32,
          "metadata": {},
          "output_type": "execute_result"
        }
      ],
      "source": [
        "data['category'].value_counts()"
      ]
    },
    {
      "cell_type": "code",
      "execution_count": null,
      "id": "f1c1cad7",
      "metadata": {
        "id": "f1c1cad7",
        "outputId": "1086f51a-8f18-453d-c5a1-5a757bcc6efa"
      },
      "outputs": [
        {
          "data": {
            "text/html": [
              "<div>\n",
              "<style scoped>\n",
              "    .dataframe tbody tr th:only-of-type {\n",
              "        vertical-align: middle;\n",
              "    }\n",
              "\n",
              "    .dataframe tbody tr th {\n",
              "        vertical-align: top;\n",
              "    }\n",
              "\n",
              "    .dataframe thead th {\n",
              "        text-align: right;\n",
              "    }\n",
              "</style>\n",
              "<table border=\"1\" class=\"dataframe\">\n",
              "  <thead>\n",
              "    <tr style=\"text-align: right;\">\n",
              "      <th></th>\n",
              "      <th>pkSeqID</th>\n",
              "      <th>stime</th>\n",
              "      <th>flgs_number</th>\n",
              "      <th>proto_number</th>\n",
              "      <th>pkts</th>\n",
              "      <th>bytes</th>\n",
              "      <th>state_number</th>\n",
              "      <th>ltime</th>\n",
              "      <th>seq</th>\n",
              "      <th>dur</th>\n",
              "      <th>...</th>\n",
              "      <th>TnP_Per_Dport</th>\n",
              "      <th>AR_P_Proto_P_SrcIP</th>\n",
              "      <th>AR_P_Proto_P_DstIP</th>\n",
              "      <th>N_IN_Conn_P_DstIP</th>\n",
              "      <th>N_IN_Conn_P_SrcIP</th>\n",
              "      <th>AR_P_Proto_P_Sport</th>\n",
              "      <th>AR_P_Proto_P_Dport</th>\n",
              "      <th>Pkts_P_State_P_Protocol_P_DestIP</th>\n",
              "      <th>Pkts_P_State_P_Protocol_P_SrcIP</th>\n",
              "      <th>attack</th>\n",
              "    </tr>\n",
              "  </thead>\n",
              "  <tbody>\n",
              "    <tr>\n",
              "      <th>count</th>\n",
              "      <td>3.668522e+06</td>\n",
              "      <td>3.668522e+06</td>\n",
              "      <td>3.668522e+06</td>\n",
              "      <td>3.668522e+06</td>\n",
              "      <td>3.668522e+06</td>\n",
              "      <td>3.668522e+06</td>\n",
              "      <td>3.668522e+06</td>\n",
              "      <td>3.668522e+06</td>\n",
              "      <td>3.668522e+06</td>\n",
              "      <td>3.668522e+06</td>\n",
              "      <td>...</td>\n",
              "      <td>3.668522e+06</td>\n",
              "      <td>3.668522e+06</td>\n",
              "      <td>3.668522e+06</td>\n",
              "      <td>3.668522e+06</td>\n",
              "      <td>3.668522e+06</td>\n",
              "      <td>3.668522e+06</td>\n",
              "      <td>3.668522e+06</td>\n",
              "      <td>3.668522e+06</td>\n",
              "      <td>3.668522e+06</td>\n",
              "      <td>3.668522e+06</td>\n",
              "    </tr>\n",
              "    <tr>\n",
              "      <th>mean</th>\n",
              "      <td>1.834262e+06</td>\n",
              "      <td>1.528050e+09</td>\n",
              "      <td>1.490206e+00</td>\n",
              "      <td>2.095884e+00</td>\n",
              "      <td>7.725963e+00</td>\n",
              "      <td>8.690501e+02</td>\n",
              "      <td>3.134390e+00</td>\n",
              "      <td>1.528050e+09</td>\n",
              "      <td>1.213204e+05</td>\n",
              "      <td>2.033479e+01</td>\n",
              "      <td>...</td>\n",
              "      <td>7.369070e+02</td>\n",
              "      <td>3.327439e+02</td>\n",
              "      <td>2.851832e+02</td>\n",
              "      <td>9.245168e+01</td>\n",
              "      <td>8.253848e+01</td>\n",
              "      <td>4.564945e+02</td>\n",
              "      <td>5.385196e+02</td>\n",
              "      <td>6.422897e+02</td>\n",
              "      <td>5.859984e+02</td>\n",
              "      <td>9.998700e-01</td>\n",
              "    </tr>\n",
              "    <tr>\n",
              "      <th>std</th>\n",
              "      <td>1.059011e+06</td>\n",
              "      <td>2.581498e+05</td>\n",
              "      <td>8.652444e-01</td>\n",
              "      <td>9.990837e-01</td>\n",
              "      <td>1.155876e+02</td>\n",
              "      <td>1.122667e+05</td>\n",
              "      <td>1.186971e+00</td>\n",
              "      <td>2.581507e+05</td>\n",
              "      <td>7.579428e+04</td>\n",
              "      <td>2.148764e+01</td>\n",
              "      <td>...</td>\n",
              "      <td>6.527134e+02</td>\n",
              "      <td>8.466031e+03</td>\n",
              "      <td>4.096943e+03</td>\n",
              "      <td>1.817643e+01</td>\n",
              "      <td>2.439739e+01</td>\n",
              "      <td>1.432917e+04</td>\n",
              "      <td>1.569824e+04</td>\n",
              "      <td>4.533432e+02</td>\n",
              "      <td>4.332619e+02</td>\n",
              "      <td>1.140212e-02</td>\n",
              "    </tr>\n",
              "    <tr>\n",
              "      <th>min</th>\n",
              "      <td>1.000000e+00</td>\n",
              "      <td>1.526344e+09</td>\n",
              "      <td>1.000000e+00</td>\n",
              "      <td>1.000000e+00</td>\n",
              "      <td>1.000000e+00</td>\n",
              "      <td>6.000000e+01</td>\n",
              "      <td>1.000000e+00</td>\n",
              "      <td>1.526344e+09</td>\n",
              "      <td>1.000000e+00</td>\n",
              "      <td>0.000000e+00</td>\n",
              "      <td>...</td>\n",
              "      <td>1.000000e+00</td>\n",
              "      <td>0.000000e+00</td>\n",
              "      <td>0.000000e+00</td>\n",
              "      <td>1.000000e+00</td>\n",
              "      <td>1.000000e+00</td>\n",
              "      <td>0.000000e+00</td>\n",
              "      <td>0.000000e+00</td>\n",
              "      <td>1.000000e+00</td>\n",
              "      <td>1.000000e+00</td>\n",
              "      <td>0.000000e+00</td>\n",
              "    </tr>\n",
              "    <tr>\n",
              "      <th>25%</th>\n",
              "      <td>9.171312e+05</td>\n",
              "      <td>1.528085e+09</td>\n",
              "      <td>1.000000e+00</td>\n",
              "      <td>1.000000e+00</td>\n",
              "      <td>5.000000e+00</td>\n",
              "      <td>4.200000e+02</td>\n",
              "      <td>3.000000e+00</td>\n",
              "      <td>1.528085e+09</td>\n",
              "      <td>5.487600e+04</td>\n",
              "      <td>1.256256e+01</td>\n",
              "      <td>...</td>\n",
              "      <td>5.000000e+02</td>\n",
              "      <td>2.359950e-01</td>\n",
              "      <td>2.436680e-01</td>\n",
              "      <td>1.000000e+02</td>\n",
              "      <td>6.900000e+01</td>\n",
              "      <td>2.314810e-01</td>\n",
              "      <td>2.457730e-01</td>\n",
              "      <td>3.240000e+02</td>\n",
              "      <td>2.940000e+02</td>\n",
              "      <td>1.000000e+00</td>\n",
              "    </tr>\n",
              "    <tr>\n",
              "      <th>50%</th>\n",
              "      <td>1.834262e+06</td>\n",
              "      <td>1.528096e+09</td>\n",
              "      <td>1.000000e+00</td>\n",
              "      <td>3.000000e+00</td>\n",
              "      <td>7.000000e+00</td>\n",
              "      <td>6.000000e+02</td>\n",
              "      <td>4.000000e+00</td>\n",
              "      <td>1.528096e+09</td>\n",
              "      <td>1.177690e+05</td>\n",
              "      <td>1.550852e+01</td>\n",
              "      <td>...</td>\n",
              "      <td>7.000000e+02</td>\n",
              "      <td>3.900890e-01</td>\n",
              "      <td>3.986290e-01</td>\n",
              "      <td>1.000000e+02</td>\n",
              "      <td>1.000000e+02</td>\n",
              "      <td>3.785910e-01</td>\n",
              "      <td>3.943060e-01</td>\n",
              "      <td>6.000000e+02</td>\n",
              "      <td>5.000000e+02</td>\n",
              "      <td>1.000000e+00</td>\n",
              "    </tr>\n",
              "    <tr>\n",
              "      <th>75%</th>\n",
              "      <td>2.751392e+06</td>\n",
              "      <td>1.528099e+09</td>\n",
              "      <td>2.000000e+00</td>\n",
              "      <td>3.000000e+00</td>\n",
              "      <td>9.000000e+00</td>\n",
              "      <td>7.700000e+02</td>\n",
              "      <td>4.000000e+00</td>\n",
              "      <td>1.528099e+09</td>\n",
              "      <td>1.849300e+05</td>\n",
              "      <td>2.709986e+01</td>\n",
              "      <td>...</td>\n",
              "      <td>9.200000e+02</td>\n",
              "      <td>5.725580e-01</td>\n",
              "      <td>5.796390e-01</td>\n",
              "      <td>1.000000e+02</td>\n",
              "      <td>1.000000e+02</td>\n",
              "      <td>5.725550e-01</td>\n",
              "      <td>5.769710e-01</td>\n",
              "      <td>8.280000e+02</td>\n",
              "      <td>8.000000e+02</td>\n",
              "      <td>1.000000e+00</td>\n",
              "    </tr>\n",
              "    <tr>\n",
              "      <th>max</th>\n",
              "      <td>3.668522e+06</td>\n",
              "      <td>1.529381e+09</td>\n",
              "      <td>9.000000e+00</td>\n",
              "      <td>5.000000e+00</td>\n",
              "      <td>7.005700e+04</td>\n",
              "      <td>7.183334e+07</td>\n",
              "      <td>1.100000e+01</td>\n",
              "      <td>1.529382e+09</td>\n",
              "      <td>2.622120e+05</td>\n",
              "      <td>2.771485e+03</td>\n",
              "      <td>...</td>\n",
              "      <td>2.444250e+05</td>\n",
              "      <td>2.714290e+06</td>\n",
              "      <td>1.000000e+06</td>\n",
              "      <td>1.000000e+02</td>\n",
              "      <td>1.000000e+02</td>\n",
              "      <td>3.000000e+06</td>\n",
              "      <td>2.000000e+06</td>\n",
              "      <td>1.125440e+05</td>\n",
              "      <td>1.179390e+05</td>\n",
              "      <td>1.000000e+00</td>\n",
              "    </tr>\n",
              "  </tbody>\n",
              "</table>\n",
              "<p>8 rows × 37 columns</p>\n",
              "</div>"
            ],
            "text/plain": [
              "            pkSeqID         stime   flgs_number  proto_number          pkts  \\\n",
              "count  3.668522e+06  3.668522e+06  3.668522e+06  3.668522e+06  3.668522e+06   \n",
              "mean   1.834262e+06  1.528050e+09  1.490206e+00  2.095884e+00  7.725963e+00   \n",
              "std    1.059011e+06  2.581498e+05  8.652444e-01  9.990837e-01  1.155876e+02   \n",
              "min    1.000000e+00  1.526344e+09  1.000000e+00  1.000000e+00  1.000000e+00   \n",
              "25%    9.171312e+05  1.528085e+09  1.000000e+00  1.000000e+00  5.000000e+00   \n",
              "50%    1.834262e+06  1.528096e+09  1.000000e+00  3.000000e+00  7.000000e+00   \n",
              "75%    2.751392e+06  1.528099e+09  2.000000e+00  3.000000e+00  9.000000e+00   \n",
              "max    3.668522e+06  1.529381e+09  9.000000e+00  5.000000e+00  7.005700e+04   \n",
              "\n",
              "              bytes  state_number         ltime           seq           dur  \\\n",
              "count  3.668522e+06  3.668522e+06  3.668522e+06  3.668522e+06  3.668522e+06   \n",
              "mean   8.690501e+02  3.134390e+00  1.528050e+09  1.213204e+05  2.033479e+01   \n",
              "std    1.122667e+05  1.186971e+00  2.581507e+05  7.579428e+04  2.148764e+01   \n",
              "min    6.000000e+01  1.000000e+00  1.526344e+09  1.000000e+00  0.000000e+00   \n",
              "25%    4.200000e+02  3.000000e+00  1.528085e+09  5.487600e+04  1.256256e+01   \n",
              "50%    6.000000e+02  4.000000e+00  1.528096e+09  1.177690e+05  1.550852e+01   \n",
              "75%    7.700000e+02  4.000000e+00  1.528099e+09  1.849300e+05  2.709986e+01   \n",
              "max    7.183334e+07  1.100000e+01  1.529382e+09  2.622120e+05  2.771485e+03   \n",
              "\n",
              "       ...  TnP_Per_Dport  AR_P_Proto_P_SrcIP  AR_P_Proto_P_DstIP  \\\n",
              "count  ...   3.668522e+06        3.668522e+06        3.668522e+06   \n",
              "mean   ...   7.369070e+02        3.327439e+02        2.851832e+02   \n",
              "std    ...   6.527134e+02        8.466031e+03        4.096943e+03   \n",
              "min    ...   1.000000e+00        0.000000e+00        0.000000e+00   \n",
              "25%    ...   5.000000e+02        2.359950e-01        2.436680e-01   \n",
              "50%    ...   7.000000e+02        3.900890e-01        3.986290e-01   \n",
              "75%    ...   9.200000e+02        5.725580e-01        5.796390e-01   \n",
              "max    ...   2.444250e+05        2.714290e+06        1.000000e+06   \n",
              "\n",
              "       N_IN_Conn_P_DstIP  N_IN_Conn_P_SrcIP  AR_P_Proto_P_Sport  \\\n",
              "count       3.668522e+06       3.668522e+06        3.668522e+06   \n",
              "mean        9.245168e+01       8.253848e+01        4.564945e+02   \n",
              "std         1.817643e+01       2.439739e+01        1.432917e+04   \n",
              "min         1.000000e+00       1.000000e+00        0.000000e+00   \n",
              "25%         1.000000e+02       6.900000e+01        2.314810e-01   \n",
              "50%         1.000000e+02       1.000000e+02        3.785910e-01   \n",
              "75%         1.000000e+02       1.000000e+02        5.725550e-01   \n",
              "max         1.000000e+02       1.000000e+02        3.000000e+06   \n",
              "\n",
              "       AR_P_Proto_P_Dport  Pkts_P_State_P_Protocol_P_DestIP  \\\n",
              "count        3.668522e+06                      3.668522e+06   \n",
              "mean         5.385196e+02                      6.422897e+02   \n",
              "std          1.569824e+04                      4.533432e+02   \n",
              "min          0.000000e+00                      1.000000e+00   \n",
              "25%          2.457730e-01                      3.240000e+02   \n",
              "50%          3.943060e-01                      6.000000e+02   \n",
              "75%          5.769710e-01                      8.280000e+02   \n",
              "max          2.000000e+06                      1.125440e+05   \n",
              "\n",
              "       Pkts_P_State_P_Protocol_P_SrcIP        attack  \n",
              "count                     3.668522e+06  3.668522e+06  \n",
              "mean                      5.859984e+02  9.998700e-01  \n",
              "std                       4.332619e+02  1.140212e-02  \n",
              "min                       1.000000e+00  0.000000e+00  \n",
              "25%                       2.940000e+02  1.000000e+00  \n",
              "50%                       5.000000e+02  1.000000e+00  \n",
              "75%                       8.000000e+02  1.000000e+00  \n",
              "max                       1.179390e+05  1.000000e+00  \n",
              "\n",
              "[8 rows x 37 columns]"
            ]
          },
          "execution_count": 33,
          "metadata": {},
          "output_type": "execute_result"
        }
      ],
      "source": [
        "data.describe()"
      ]
    },
    {
      "cell_type": "code",
      "execution_count": null,
      "id": "6b83af20",
      "metadata": {
        "id": "6b83af20",
        "outputId": "c423db4a-64f1-4c4b-d770-a61ec4e9a029"
      },
      "outputs": [
        {
          "data": {
            "text/plain": [
              "proto\n",
              "udp          1996437\n",
              "tcp          1662812\n",
              "icmp            9052\n",
              "arp              213\n",
              "ipv6-icmp          8\n",
              "Name: count, dtype: int64"
            ]
          },
          "execution_count": 34,
          "metadata": {},
          "output_type": "execute_result"
        }
      ],
      "source": [
        "data[\"proto\"].value_counts()"
      ]
    },
    {
      "cell_type": "code",
      "execution_count": null,
      "id": "6a2d1bab",
      "metadata": {
        "id": "6a2d1bab",
        "outputId": "a479f709-dde0-4018-9e7f-117c26541148"
      },
      "outputs": [
        {
          "data": {
            "text/plain": [
              "saddr\n",
              "192.168.100.147              950966\n",
              "192.168.100.148              923290\n",
              "192.168.100.150              890262\n",
              "192.168.100.149              890146\n",
              "192.168.100.3                  8281\n",
              "192.168.100.5                  5118\n",
              "192.168.100.6                   327\n",
              "192.168.100.7                    43\n",
              "192.168.100.4                    19\n",
              "192.168.100.1                    16\n",
              "192.168.100.46                   15\n",
              "192.168.100.27                   14\n",
              "fe80::250:56ff:febe:254           6\n",
              "fe80::c0c0:aa20:45b9:bdd9         4\n",
              "192.168.100.55                    3\n",
              "fe80::250:56ff:febe:e9d9          2\n",
              "fe80::250:56ff:febe:26db          2\n",
              "fe80::250:56ff:febe:89ee          2\n",
              "fe80::2c6a:ff9b:7e14:166a         2\n",
              "fe80::250:56ff:febe:bf1a          2\n",
              "fe80::250:56ff:febe:c038          2\n",
              "Name: count, dtype: int64"
            ]
          },
          "execution_count": 35,
          "metadata": {},
          "output_type": "execute_result"
        }
      ],
      "source": [
        "data[\"saddr\"].value_counts()"
      ]
    },
    {
      "cell_type": "code",
      "execution_count": null,
      "id": "14231852",
      "metadata": {
        "id": "14231852",
        "outputId": "c46b35a2-3825-4d00-fc78-1a3b73dfe9e1"
      },
      "outputs": [
        {
          "data": {
            "text/plain": [
              "sport\n",
              "0x0303    8950\n",
              "80        3986\n",
              "2290      1041\n",
              "2456      1039\n",
              "1589      1037\n",
              "          ... \n",
              "51305        1\n",
              "51313        1\n",
              "51311        1\n",
              "51309        1\n",
              "51303        1\n",
              "Name: count, Length: 131078, dtype: int64"
            ]
          },
          "execution_count": 36,
          "metadata": {},
          "output_type": "execute_result"
        }
      ],
      "source": [
        "data[\"sport\"].value_counts()"
      ]
    },
    {
      "cell_type": "code",
      "execution_count": null,
      "id": "66d75ce3",
      "metadata": {
        "id": "66d75ce3",
        "outputId": "78b53aa9-8971-4243-a29d-d64b0d1fb6a2"
      },
      "outputs": [
        {
          "data": {
            "text/plain": [
              "daddr\n",
              "192.168.100.3      2375733\n",
              "192.168.100.5       451694\n",
              "192.168.100.7       414859\n",
              "192.168.100.6       412209\n",
              "192.168.100.150       3860\n",
              "                    ...   \n",
              "205.251.198.119          1\n",
              "205.251.195.185          1\n",
              "192.48.79.30             1\n",
              "198.41.0.4               1\n",
              "205.251.194.154          1\n",
              "Name: count, Length: 84, dtype: int64"
            ]
          },
          "execution_count": 37,
          "metadata": {},
          "output_type": "execute_result"
        }
      ],
      "source": [
        "data[\"daddr\"].value_counts()"
      ]
    },
    {
      "cell_type": "code",
      "execution_count": null,
      "id": "1861574e",
      "metadata": {
        "id": "1861574e",
        "outputId": "7f9abc8d-9a68-4eba-f91b-fda3b009bd41"
      },
      "outputs": [
        {
          "data": {
            "text/plain": [
              "dport\n",
              "80       3225356\n",
              "80        348219\n",
              "1           6745\n",
              "3306        4613\n",
              "53           340\n",
              "          ...   \n",
              "30559          1\n",
              "30558          1\n",
              "30556          1\n",
              "30553          1\n",
              "30552          1\n",
              "Name: count, Length: 7839, dtype: int64"
            ]
          },
          "execution_count": 38,
          "metadata": {},
          "output_type": "execute_result"
        }
      ],
      "source": [
        "data[\"dport\"].value_counts()"
      ]
    },
    {
      "cell_type": "code",
      "execution_count": null,
      "id": "43a9f79b",
      "metadata": {
        "id": "43a9f79b",
        "outputId": "f4bf49f9-c1ee-40fb-dc3e-bec21592444e"
      },
      "outputs": [
        {
          "data": {
            "text/plain": [
              "attack\n",
              "1    3668045\n",
              "0        477\n",
              "Name: count, dtype: int64"
            ]
          },
          "execution_count": 39,
          "metadata": {},
          "output_type": "execute_result"
        }
      ],
      "source": [
        "data[\"attack\"].value_counts()"
      ]
    },
    {
      "cell_type": "code",
      "execution_count": null,
      "id": "0b7eff73",
      "metadata": {
        "id": "0b7eff73",
        "outputId": "00e5c47c-0c5c-44a5-c42d-8106b1e4be1d"
      },
      "outputs": [
        {
          "data": {
            "text/plain": [
              "subcategory\n",
              "UDP                  1981230\n",
              "TCP                  1593180\n",
              "Service_Scan           73168\n",
              "OS_Fingerprint         17914\n",
              "HTTP                    2474\n",
              "Normal                   477\n",
              "Keylogging                73\n",
              "Data_Exfiltration          6\n",
              "Name: count, dtype: int64"
            ]
          },
          "execution_count": 40,
          "metadata": {},
          "output_type": "execute_result"
        }
      ],
      "source": [
        "data[\"subcategory\"].value_counts()"
      ]
    },
    {
      "cell_type": "code",
      "execution_count": null,
      "id": "0bf3487b",
      "metadata": {
        "id": "0bf3487b"
      },
      "outputs": [],
      "source": [
        "target_features = data[['attack','category','subcategory']]\n",
        "features= data.drop(['attack','category','subcategory'], axis=1)"
      ]
    },
    {
      "cell_type": "code",
      "execution_count": null,
      "id": "d7f22a58",
      "metadata": {
        "id": "d7f22a58",
        "outputId": "3b76d54e-997e-47be-b117-7cb60f3a5de9"
      },
      "outputs": [
        {
          "name": "stderr",
          "output_type": "stream",
          "text": [
            "C:\\Users\\nihca\\AppData\\Local\\Temp\\ipykernel_19672\\2335321493.py:2: SettingWithCopyWarning: \n",
            "A value is trying to be set on a copy of a slice from a DataFrame.\n",
            "Try using .loc[row_indexer,col_indexer] = value instead\n",
            "\n",
            "See the caveats in the documentation: https://pandas.pydata.org/pandas-docs/stable/user_guide/indexing.html#returning-a-view-versus-a-copy\n",
            "  target_features['category'] = le.fit_transform(target_features['category'])\n",
            "C:\\Users\\nihca\\AppData\\Local\\Temp\\ipykernel_19672\\2335321493.py:3: SettingWithCopyWarning: \n",
            "A value is trying to be set on a copy of a slice from a DataFrame.\n",
            "Try using .loc[row_indexer,col_indexer] = value instead\n",
            "\n",
            "See the caveats in the documentation: https://pandas.pydata.org/pandas-docs/stable/user_guide/indexing.html#returning-a-view-versus-a-copy\n",
            "  target_features['subcategory'] = le.fit_transform(target_features['subcategory'])\n"
          ]
        },
        {
          "data": {
            "text/html": [
              "<div>\n",
              "<style scoped>\n",
              "    .dataframe tbody tr th:only-of-type {\n",
              "        vertical-align: middle;\n",
              "    }\n",
              "\n",
              "    .dataframe tbody tr th {\n",
              "        vertical-align: top;\n",
              "    }\n",
              "\n",
              "    .dataframe thead th {\n",
              "        text-align: right;\n",
              "    }\n",
              "</style>\n",
              "<table border=\"1\" class=\"dataframe\">\n",
              "  <thead>\n",
              "    <tr style=\"text-align: right;\">\n",
              "      <th></th>\n",
              "      <th>attack</th>\n",
              "      <th>category</th>\n",
              "      <th>subcategory</th>\n",
              "    </tr>\n",
              "  </thead>\n",
              "  <tbody>\n",
              "    <tr>\n",
              "      <th>0</th>\n",
              "      <td>1</td>\n",
              "      <td>1</td>\n",
              "      <td>1</td>\n",
              "    </tr>\n",
              "    <tr>\n",
              "      <th>1</th>\n",
              "      <td>1</td>\n",
              "      <td>1</td>\n",
              "      <td>1</td>\n",
              "    </tr>\n",
              "    <tr>\n",
              "      <th>2</th>\n",
              "      <td>1</td>\n",
              "      <td>1</td>\n",
              "      <td>1</td>\n",
              "    </tr>\n",
              "    <tr>\n",
              "      <th>3</th>\n",
              "      <td>1</td>\n",
              "      <td>1</td>\n",
              "      <td>1</td>\n",
              "    </tr>\n",
              "    <tr>\n",
              "      <th>4</th>\n",
              "      <td>1</td>\n",
              "      <td>1</td>\n",
              "      <td>1</td>\n",
              "    </tr>\n",
              "  </tbody>\n",
              "</table>\n",
              "</div>"
            ],
            "text/plain": [
              "   attack  category  subcategory\n",
              "0       1         1            1\n",
              "1       1         1            1\n",
              "2       1         1            1\n",
              "3       1         1            1\n",
              "4       1         1            1"
            ]
          },
          "execution_count": 42,
          "metadata": {},
          "output_type": "execute_result"
        }
      ],
      "source": [
        "le = LabelEncoder()\n",
        "target_features['category'] = le.fit_transform(target_features['category'])\n",
        "target_features['subcategory'] = le.fit_transform(target_features['subcategory'])\n",
        "\n",
        "target_features.head()"
      ]
    },
    {
      "cell_type": "code",
      "execution_count": null,
      "id": "be868686",
      "metadata": {
        "id": "be868686"
      },
      "outputs": [],
      "source": [
        "X_train, X_test, y_train, y_test = train_test_split(features,target_features)"
      ]
    }
  ],
  "metadata": {
    "kernelspec": {
      "display_name": "research",
      "language": "python",
      "name": "python3"
    },
    "language_info": {
      "codemirror_mode": {
        "name": "ipython",
        "version": 3
      },
      "file_extension": ".py",
      "mimetype": "text/x-python",
      "name": "python",
      "nbconvert_exporter": "python",
      "pygments_lexer": "ipython3",
      "version": "3.13.3"
    },
    "colab": {
      "provenance": []
    }
  },
  "nbformat": 4,
  "nbformat_minor": 5
}